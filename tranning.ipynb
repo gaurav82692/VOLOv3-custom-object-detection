{
 "cells": [
  {
   "cell_type": "markdown",
   "metadata": {
    "colab_type": "text",
    "id": "4EfjFUm92TY0"
   },
   "source": [
    "# **Change the Runtime from Runtime Menu.**"
   ]
  },
  {
   "cell_type": "markdown",
   "metadata": {
    "colab_type": "text",
    "id": "eUyOWAoX2n_n"
   },
   "source": [
    "# **Thats cool!! Now we are importing Darknet Github Repositary.**"
   ]
  },
  {
   "cell_type": "markdown",
   "metadata": {
    "colab_type": "text",
    "id": "Ezhp2YO53-M9"
   },
   "source": [
    "Runtime ==> Change runtime type ==> Select GPU, dont change python3. Make sure you have select python3 only."
   ]
  },
  {
   "cell_type": "code",
   "execution_count": 0,
   "metadata": {
    "colab": {},
    "colab_type": "code",
    "id": "b4H1n4tl2xTA"
   },
   "outputs": [],
   "source": [
    "!git clone https://github.com/AlexeyAB/darknet"
   ]
  },
  {
   "cell_type": "markdown",
   "metadata": {
    "colab_type": "text",
    "id": "XzLcG4hH23Tn"
   },
   "source": [
    "# **Now we make changes to MAKEFILE. As we done in our previous videos.**\n",
    "\n",
    "As we are using Goolge Colab GPU, we make set GPU=1, cuDNN=1, and OPENCV=1. \n",
    "For this we just need to execute the below command!!."
   ]
  },
  {
   "cell_type": "code",
   "execution_count": 0,
   "metadata": {
    "colab": {},
    "colab_type": "code",
    "id": "w6Byl4c621VO"
   },
   "outputs": [],
   "source": [
    "# change makefile to have GPU and OPENCV enabled\n",
    "%cd darknet\n",
    "!sed -i 's/OPENCV=0/OPENCV=1/' Makefile\n",
    "!sed -i 's/GPU=0/GPU=1/' Makefile\n",
    "!sed -i 's/CUDNN=0/CUDNN=1/' Makefile"
   ]
  },
  {
   "cell_type": "markdown",
   "metadata": {
    "colab_type": "text",
    "id": "y5BT3Rgp3aWN"
   },
   "source": [
    "# **Lets verify CUDA**"
   ]
  },
  {
   "cell_type": "code",
   "execution_count": 0,
   "metadata": {
    "colab": {},
    "colab_type": "code",
    "id": "1PM71Wun3gZ5"
   },
   "outputs": [],
   "source": [
    "# verify CUDA\n",
    "!/usr/local/cuda/bin/nvcc --version"
   ]
  },
  {
   "cell_type": "markdown",
   "metadata": {
    "colab_type": "text",
    "id": "7S1BrbT63pEt"
   },
   "source": [
    "# **Now just MAKE it!!!!**"
   ]
  },
  {
   "cell_type": "code",
   "execution_count": 0,
   "metadata": {
    "colab": {},
    "colab_type": "code",
    "id": "FrQVvVr83svW"
   },
   "outputs": [],
   "source": [
    "# make darknet (build)\n",
    "!make"
   ]
  },
  {
   "cell_type": "markdown",
   "metadata": {
    "colab_type": "text",
    "id": "X8XjWjqH4QAE"
   },
   "source": [
    "# Now, upload all files to respective darknet folder. **Drag and Drop Only.**\n",
    "1. yolov3-custom.cfg in **cfg folder**\n",
    "2. obj.names and obj.data in **data folder**\n",
    "3. train.txt and test.txt in **data folder**"
   ]
  },
  {
   "cell_type": "markdown",
   "metadata": {
    "colab_type": "text",
    "id": "DOwm_XaK46bC"
   },
   "source": [
    "## Now copy your images and labels from your drive to **data/obj folder**\n",
    "# Also, copy darknet53.conv.74 to **darknet folder only.**"
   ]
  },
  {
   "cell_type": "markdown",
   "metadata": {
    "colab_type": "text",
    "id": "WHldmZXU63UC"
   },
   "source": [
    "**!cp source-path destination-path**"
   ]
  },
  {
   "cell_type": "code",
   "execution_count": 0,
   "metadata": {
    "colab": {},
    "colab_type": "code",
    "id": "oCsDl8fG5Y9V"
   },
   "outputs": [],
   "source": [
    "!cp /content/drive/My\\ Drive/darknet/data/obj/* /content/darknet/data/obj\n",
    "!cp /content/drive/My\\ Drive/darknet/darknet53.conv.74 /content/darknet"
   ]
  },
  {
   "cell_type": "code",
   "execution_count": 0,
   "metadata": {
    "colab": {},
    "colab_type": "code",
    "id": "9tKeuJPyIOTP"
   },
   "outputs": [],
   "source": [
    "#check all files are imported successfully not.\n",
    "import os\n",
    "\n",
    "path, dirs, files = next(os.walk(\"/content/darknet/data/obj\"))\n",
    "file_count = len(files)\n",
    "print(file_count)"
   ]
  },
  {
   "cell_type": "markdown",
   "metadata": {
    "colab_type": "text",
    "id": "DyWzbYHr54S6"
   },
   "source": [
    "### **Before training, i will tell you one thing, that Google Colab says that, if user is ideal for 30 or 90 minutes, means no moment of mouse, or clicking anywhere, then they will assume that user are wasting their GPU which he/she occuipes and they will kick you out from their virtual machine.**\n",
    "\n",
    "**So to overcome this, we just copy a piece of code and paste in our console. It will keep awake our pc.**\n",
    "\n",
    "Code:\n",
    "\n",
    "function ClickConnect(){\n",
    "\n",
    "console.log(\"Working\"); \n",
    "\n",
    "document.querySelector(\"colab-toolbar-button#connect\").click() \n",
    "\n",
    "}\n",
    "\n",
    "setInterval(ClickConnect,60000)\n"
   ]
  },
  {
   "cell_type": "markdown",
   "metadata": {
    "colab_type": "text",
    "id": "D8IqXcjB8g3o"
   },
   "source": [
    "While Trainig, you can see your weights in backup folder and also u can see loss graph in chart.png."
   ]
  },
  {
   "cell_type": "markdown",
   "metadata": {
    "colab_type": "text",
    "id": "0zyqPdzT7PPX"
   },
   "source": [
    "# Train!!!!"
   ]
  },
  {
   "cell_type": "code",
   "execution_count": 0,
   "metadata": {
    "colab": {},
    "colab_type": "code",
    "id": "VFw3-MJo7Rzh"
   },
   "outputs": [],
   "source": [
    "!./darknet detector train data/obj.data cfg/yolov3-custom.cfg darknet53.conv.74 -dont_show"
   ]
  },
  {
   "cell_type": "markdown",
   "metadata": {},
   "source": [
    "<b>\n",
    "    If for some reason you get an error or your Colab goes idle during training, you have not lost your weights! Every 100 iterations a weights file called yolov3_custom_last.weights is saved to mydrive/yolov3/backup/ folder (wherever your backup folder is). This is why we created this folder in our Google drive and not on the cloud VM. If your runtime crashes and your backup folder was in your cloud VM you would lose your weights and your training progress.\n",
    "\n",
    "We can kick off training from our last saved weights file so that we don't have to restart! WOOHOO! Just run the following command but with your backup location.\n",
    "</b>"
   ]
  },
  {
   "cell_type": "code",
   "execution_count": null,
   "metadata": {},
   "outputs": [],
   "source": [
    "!./darknet detector train data/obj.data cfg/yolov3_custom.cfg /mydrive/yolov3/backup/yolov3_custom_last.weights -dont_show"
   ]
  },
  {
   "cell_type": "markdown",
   "metadata": {},
   "source": [
    "<h4>Run Your Custom Object Detector!!!<h4>\n",
    "You have done it! You now have a custom object detector to make your very own detections. Time to test it out and have some fun!"
   ]
  },
  {
   "cell_type": "code",
   "execution_count": null,
   "metadata": {},
   "outputs": [],
   "source": [
    "# need to set our custom cfg to test mode \n",
    "%cd cfg\n",
    "!sed -i 's/batch=64/batch=1/' yolov3_custom.cfg\n",
    "!sed -i 's/subdivisions=16/subdivisions=1/' yolov3_custom.cfg\n",
    "%cd .."
   ]
  },
  {
   "cell_type": "code",
   "execution_count": null,
   "metadata": {},
   "outputs": [],
   "source": [
    "!./darknet detector test data/obj.data cfg/yolov3_custom.cfg /mydrive/yolov3/backup/yolov3_custom_last.weights /mydrive/images/safari.jpg -thresh 0.3\n"
   ]
  },
  {
   "cell_type": "code",
   "execution_count": null,
   "metadata": {},
   "outputs": [],
   "source": [
    "imShow('predictions.jpg')"
   ]
  }
 ],
 "metadata": {
  "colab": {
   "collapsed_sections": [],
   "name": "Youtube.ipynb",
   "provenance": [],
   "toc_visible": true
  },
  "kernelspec": {
   "display_name": "Python 3",
   "language": "python",
   "name": "python3"
  },
  "language_info": {
   "codemirror_mode": {
    "name": "ipython",
    "version": 3
   },
   "file_extension": ".py",
   "mimetype": "text/x-python",
   "name": "python",
   "nbconvert_exporter": "python",
   "pygments_lexer": "ipython3",
   "version": "3.7.4"
  }
 },
 "nbformat": 4,
 "nbformat_minor": 1
}
